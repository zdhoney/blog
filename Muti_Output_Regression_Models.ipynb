{
  "cells": [
    {
      "cell_type": "markdown",
      "metadata": {
        "id": "view-in-github",
        "colab_type": "text"
      },
      "source": [
        "<a href=\"https://colab.research.google.com/github/zdhoney/blog/blob/master/Muti_Output_Regression_Models.ipynb\" target=\"_parent\"><img src=\"https://colab.research.google.com/assets/colab-badge.svg\" alt=\"Open In Colab\"/></a>"
      ]
    },
    {
      "cell_type": "markdown",
      "metadata": {
        "id": "WF0z4CGEWeMC"
      },
      "source": [
        "# Machine Learning Mastery - Multi-Output Regression\n",
        "\n",
        "Notebook is working through the example of the [Machine Learning Mastery](machinelearningmastery.com) [blog](https://machinelearningmastery.com/multi-output-regression-models-with-python/)\n",
        "\n",
        "Shows how to use scikit-learn wrapper classes to predict multi-output regression models for models that typically do not support multiple outputs.\n"
      ]
    },
    {
      "cell_type": "code",
      "execution_count": 1,
      "metadata": {
        "ExecuteTime": {
          "end_time": "2020-03-27T03:28:39.758042Z",
          "start_time": "2020-03-27T03:28:39.754587Z"
        },
        "colab": {
          "base_uri": "https://localhost:8080/"
        },
        "id": "3_skhkYUWeME",
        "outputId": "6d5e9f88-30b1-46ff-bab7-dba0433b3a79"
      },
      "outputs": [
        {
          "output_type": "stream",
          "name": "stdout",
          "text": [
            "1.2.2\n"
          ]
        }
      ],
      "source": [
        "# check scikit-learn version\n",
        "import sklearn\n",
        "print(sklearn.__version__)"
      ]
    },
    {
      "cell_type": "code",
      "execution_count": 2,
      "metadata": {
        "ExecuteTime": {
          "end_time": "2020-03-27T03:28:39.769056Z",
          "start_time": "2020-03-27T03:28:39.759930Z"
        },
        "id": "65B2pSHjWeMG"
      },
      "outputs": [],
      "source": [
        "# linear regression for multioutput regression\n",
        "from sklearn.datasets import make_regression\n",
        "from sklearn.linear_model import LinearRegression\n",
        "from sklearn.neighbors import KNeighborsRegressor\n",
        "from sklearn.ensemble import RandomForestRegressor\n",
        "from sklearn.tree import DecisionTreeRegressor\n",
        "from sklearn.multioutput import MultiOutputRegressor\n",
        "from sklearn.svm import LinearSVR\n",
        "from sklearn.model_selection import train_test_split\n",
        "from sklearn.model_selection import cross_val_score\n",
        "from sklearn.model_selection import RepeatedKFold\n",
        "from sklearn.multioutput import RegressorChain\n",
        "from sklearn.metrics import mean_squared_error\n",
        "import numpy as np\n",
        "np.set_printoptions(precision=2)\n",
        "from numpy import absolute\n",
        "from numpy import mean\n",
        "from numpy import std\n",
        "import pandas as pd\n",
        "\n",
        "import matplotlib.pyplot as plt\n",
        "%matplotlib inline\n"
      ]
    },
    {
      "cell_type": "markdown",
      "metadata": {
        "id": "PllXa5JmWeMI"
      },
      "source": [
        "## Create Train Test Dataset"
      ]
    },
    {
      "cell_type": "code",
      "execution_count": 3,
      "metadata": {
        "ExecuteTime": {
          "end_time": "2020-03-27T03:28:39.775829Z",
          "start_time": "2020-03-27T03:28:39.771020Z"
        },
        "id": "PcigwHPhWeMI"
      },
      "outputs": [],
      "source": [
        "# create datasets\n",
        "X, y = make_regression(n_samples=1000, n_features=10, n_informative=5, n_targets=2, random_state=1)\n",
        "\n",
        "X_train, X_test, y_train, y_test = train_test_split(X,y, test_size=0.2, random_state=42)"
      ]
    },
    {
      "cell_type": "code",
      "execution_count": 4,
      "metadata": {
        "ExecuteTime": {
          "end_time": "2020-03-27T03:28:39.780996Z",
          "start_time": "2020-03-27T03:28:39.777484Z"
        },
        "colab": {
          "base_uri": "https://localhost:8080/"
        },
        "id": "8LGx7agdWeMJ",
        "outputId": "401f48d5-b184-4b32-89ff-bc39c23d337c"
      },
      "outputs": [
        {
          "output_type": "execute_result",
          "data": {
            "text/plain": [
              "(800, 10)"
            ]
          },
          "metadata": {},
          "execution_count": 4
        }
      ],
      "source": [
        "X_train.shape"
      ]
    },
    {
      "cell_type": "code",
      "execution_count": 5,
      "metadata": {
        "ExecuteTime": {
          "end_time": "2020-03-27T03:28:39.785574Z",
          "start_time": "2020-03-27T03:28:39.782343Z"
        },
        "colab": {
          "base_uri": "https://localhost:8080/"
        },
        "id": "1FWR_HyGWeML",
        "outputId": "4525a1e7-3be9-4791-e235-aaff9f0ba2d2"
      },
      "outputs": [
        {
          "output_type": "execute_result",
          "data": {
            "text/plain": [
              "(200, 10)"
            ]
          },
          "metadata": {},
          "execution_count": 5
        }
      ],
      "source": [
        "X_test.shape"
      ]
    },
    {
      "cell_type": "code",
      "execution_count": 6,
      "metadata": {
        "ExecuteTime": {
          "end_time": "2020-03-27T03:28:39.790215Z",
          "start_time": "2020-03-27T03:28:39.786958Z"
        },
        "colab": {
          "base_uri": "https://localhost:8080/"
        },
        "id": "0KMaO87xWeMM",
        "outputId": "7bd1acda-67f6-4c49-a2ff-11eab908e80e"
      },
      "outputs": [
        {
          "output_type": "execute_result",
          "data": {
            "text/plain": [
              "1000"
            ]
          },
          "metadata": {},
          "execution_count": 6
        }
      ],
      "source": [
        "len(y)"
      ]
    },
    {
      "cell_type": "code",
      "execution_count": 7,
      "metadata": {
        "ExecuteTime": {
          "end_time": "2020-03-27T03:28:39.795708Z",
          "start_time": "2020-03-27T03:28:39.791633Z"
        },
        "colab": {
          "base_uri": "https://localhost:8080/"
        },
        "id": "fhwSOBIhWeMN",
        "outputId": "0998cfee-606f-4e0c-f4eb-4d43b7e8e6ff"
      },
      "outputs": [
        {
          "output_type": "execute_result",
          "data": {
            "text/plain": [
              "array([[-0.86,  0.03,  2.11, -0.07, -0.6 , -0.77,  0.75,  0.75,  0.06,\n",
              "        -0.79],\n",
              "       [-0.4 ,  0.28, -1.06,  0.25, -1.8 ,  0.14,  0.63, -0.88,  2.89,\n",
              "         2.48],\n",
              "       [ 0.83, -0.59,  0.67,  1.59,  1.74, -0.13,  0.55, -0.41, -0.73,\n",
              "         0.98],\n",
              "       [-0.11,  2.28, -0.61,  2.25, -0.29, -0.39,  0.49,  0.01, -0.33,\n",
              "         1.24],\n",
              "       [ 0.89, -0.5 , -0.13, -0.83, -0.54,  0.43,  0.34,  1.27,  0.86,\n",
              "         0.46]])"
            ]
          },
          "metadata": {},
          "execution_count": 7
        }
      ],
      "source": [
        "X_train[:5]"
      ]
    },
    {
      "cell_type": "code",
      "execution_count": null,
      "metadata": {
        "ExecuteTime": {
          "end_time": "2020-03-27T03:28:39.801684Z",
          "start_time": "2020-03-27T03:28:39.797971Z"
        },
        "id": "n2ROm_WoWeMN",
        "outputId": "68628eae-c988-45d3-b9d6-188f41095e8f"
      },
      "outputs": [
        {
          "data": {
            "text/plain": [
              "array([[-126.63,   35.71]])"
            ]
          },
          "execution_count": 20,
          "metadata": {},
          "output_type": "execute_result"
        }
      ],
      "source": [
        "y_test[:1]"
      ]
    },
    {
      "cell_type": "markdown",
      "metadata": {
        "id": "if9CNswnWeMO"
      },
      "source": [
        "## Linear Regression"
      ]
    },
    {
      "cell_type": "code",
      "execution_count": null,
      "metadata": {
        "ExecuteTime": {
          "end_time": "2020-03-27T03:28:39.809869Z",
          "start_time": "2020-03-27T03:28:39.803491Z"
        },
        "id": "7wl_yF2IWeMO",
        "outputId": "a24d5ac9-14e8-4595-9003-e60f3ce712b1"
      },
      "outputs": [
        {
          "name": "stdout",
          "output_type": "stream",
          "text": [
            "[ 0.96  0.62  1.19 -0.71  0.28 -0.14 -0.83 -0.8  -0.24  1.16]\n",
            "[-126.63   35.71]\n",
            "[-126.63   35.71]\n"
          ]
        }
      ],
      "source": [
        "\n",
        "# define model\n",
        "model = LinearRegression()\n",
        "# fit model\n",
        "model.fit(X_train, y_train)\n",
        "# make a prediction\n",
        "print(X_test[0])\n",
        "print(y_test[0])\n",
        "data_in = [X_test[0]]\n",
        "yhat = model.predict(data_in)\n",
        "# summarize prediction\n",
        "print(yhat[0])"
      ]
    },
    {
      "cell_type": "code",
      "execution_count": null,
      "metadata": {
        "ExecuteTime": {
          "end_time": "2020-03-27T03:28:39.813984Z",
          "start_time": "2020-03-27T03:28:39.811208Z"
        },
        "id": "z_5ypjfiWeMP"
      },
      "outputs": [],
      "source": [
        "y_preds = model.predict(X_test)"
      ]
    },
    {
      "cell_type": "code",
      "execution_count": null,
      "metadata": {
        "ExecuteTime": {
          "end_time": "2020-03-27T03:28:39.819965Z",
          "start_time": "2020-03-27T03:28:39.815503Z"
        },
        "id": "JQHbJNGBWeMP",
        "outputId": "b640e4ab-28a8-4fa9-da32-f26559b57db8"
      },
      "outputs": [
        {
          "data": {
            "text/plain": [
              "array([1.96e-26, 9.55e-27])"
            ]
          },
          "execution_count": 23,
          "metadata": {},
          "output_type": "execute_result"
        }
      ],
      "source": [
        "mean_squared_error(y_test, y_preds, multioutput='raw_values',squared=True)"
      ]
    },
    {
      "cell_type": "markdown",
      "metadata": {
        "id": "S2hu0LCOWeMP"
      },
      "source": [
        "## k-Nearest Neighbors"
      ]
    },
    {
      "cell_type": "code",
      "execution_count": null,
      "metadata": {
        "ExecuteTime": {
          "end_time": "2020-03-27T03:28:39.830628Z",
          "start_time": "2020-03-27T03:28:39.821501Z"
        },
        "id": "Za0EKKfSWeMP",
        "outputId": "b9dae215-0876-42c5-c415-f7b6227d7a41"
      },
      "outputs": [
        {
          "data": {
            "text/plain": [
              "array([4814.67, 2614.5 ])"
            ]
          },
          "execution_count": 24,
          "metadata": {},
          "output_type": "execute_result"
        }
      ],
      "source": [
        "model = KNeighborsRegressor()\n",
        "# fit model\n",
        "model.fit(X_train, y_train)\n",
        "# make a prediction\n",
        "y_preds = model.predict(X_test)\n",
        "# summarize prediction\n",
        "\n",
        "mean_squared_error(y_test, y_preds, multioutput='raw_values',squared=True)"
      ]
    },
    {
      "cell_type": "markdown",
      "metadata": {
        "id": "iNSuovBGWeMP"
      },
      "source": [
        "## Random Forest"
      ]
    },
    {
      "cell_type": "code",
      "execution_count": null,
      "metadata": {
        "ExecuteTime": {
          "end_time": "2020-03-27T03:28:40.176735Z",
          "start_time": "2020-03-27T03:28:39.832002Z"
        },
        "id": "2xDoqmbAWeMQ",
        "outputId": "4e931fb2-d8a7-4a0a-e3f7-71ea1e635074"
      },
      "outputs": [
        {
          "data": {
            "text/plain": [
              "array([2203.14, 1632.86])"
            ]
          },
          "execution_count": 25,
          "metadata": {},
          "output_type": "execute_result"
        }
      ],
      "source": [
        "model = RandomForestRegressor()\n",
        "# fit model\n",
        "model.fit(X_train, y_train)\n",
        "# make a prediction\n",
        "y_preds = model.predict(X_test)\n",
        "# summarize prediction\n",
        "\n",
        "mean_squared_error(y_test, y_preds, multioutput='raw_values',squared=True)"
      ]
    },
    {
      "cell_type": "markdown",
      "metadata": {
        "id": "Ot9GcuNqWeMQ"
      },
      "source": [
        "## Use Cross-Validation and DecisionTreeRegressor"
      ]
    },
    {
      "cell_type": "code",
      "execution_count": null,
      "metadata": {
        "ExecuteTime": {
          "end_time": "2020-03-27T03:28:41.045008Z",
          "start_time": "2020-03-27T03:28:40.177930Z"
        },
        "id": "uITuefS7WeMQ",
        "outputId": "994128bd-b6a9-4556-8d8c-6fbd3e3571f9"
      },
      "outputs": [
        {
          "name": "stdout",
          "output_type": "stream",
          "text": [
            "Result: 51.797 (3.123)\n"
          ]
        }
      ],
      "source": [
        "\n",
        "# define model\n",
        "model = DecisionTreeRegressor()\n",
        "# evaluate model\n",
        "cv = RepeatedKFold(n_splits=10, n_repeats=3, random_state=1)\n",
        "n_scores = cross_val_score(model, X, y, scoring='neg_mean_absolute_error', cv=cv, n_jobs=-1, error_score='raise')\n",
        "# summarize performance\n",
        "n_scores = absolute(n_scores)\n",
        "print('Result: %.3f (%.3f)' % (mean(n_scores), std(n_scores)))"
      ]
    },
    {
      "cell_type": "markdown",
      "metadata": {
        "id": "WfR_4i7WWeMQ"
      },
      "source": [
        "## Wrap Multi-Output Regression Algorithms\n",
        "\n",
        "Some algorithms do not lend themselves to multi-outputs for regression.  For these we have to use scikit-learns\n",
        "\n",
        "> * MultiOutputRegressor\n",
        "> * RegressorChain"
      ]
    },
    {
      "cell_type": "markdown",
      "metadata": {
        "id": "UdL3w8RJWeMQ"
      },
      "source": [
        "### MultiOutputRegressor"
      ]
    },
    {
      "cell_type": "code",
      "execution_count": null,
      "metadata": {
        "ExecuteTime": {
          "end_time": "2020-03-27T03:28:41.055437Z",
          "start_time": "2020-03-27T03:28:41.046947Z"
        },
        "id": "pS_GAtJCWeMR",
        "outputId": "962d1c6c-7e54-4c34-b370-48a9ecbb6127"
      },
      "outputs": [
        {
          "name": "stdout",
          "output_type": "stream",
          "text": [
            "[-93.15  23.27]\n"
          ]
        }
      ],
      "source": [
        "\n",
        "# define model\n",
        "model = LinearSVR()\n",
        "wrapper = MultiOutputRegressor(model)\n",
        "# fit model\n",
        "wrapper.fit(X, y)\n",
        "# make a prediction\n",
        "data_in = [[-2.02220122, 0.31563495, 0.82797464, -0.30620401, 0.16003707, -1.44411381, 0.87616892, -0.50446586, 0.23009474, 0.76201118]]\n",
        "yhat = wrapper.predict(data_in)\n",
        "# summarize prediction\n",
        "print(yhat[0])\n"
      ]
    },
    {
      "cell_type": "code",
      "execution_count": null,
      "metadata": {
        "ExecuteTime": {
          "end_time": "2020-03-27T03:28:41.064998Z",
          "start_time": "2020-03-27T03:28:41.056698Z"
        },
        "id": "CF4a67cNWeMR",
        "outputId": "678d1f15-fdfd-4bbb-a5b5-a2e1fde5ab48"
      },
      "outputs": [
        {
          "data": {
            "text/plain": [
              "array([9.47e-24, 9.96e-24])"
            ]
          },
          "execution_count": 28,
          "metadata": {},
          "output_type": "execute_result"
        }
      ],
      "source": [
        "model = LinearSVR()\n",
        "wrapper = MultiOutputRegressor(model)\n",
        "\n",
        "# fit model\n",
        "wrapper.fit(X_train, y_train)\n",
        "# make a prediction\n",
        "y_preds = wrapper.predict(X_test)\n",
        "# summarize prediction\n",
        "\n",
        "mean_squared_error(y_test, y_preds, multioutput='raw_values',squared=True)"
      ]
    },
    {
      "cell_type": "markdown",
      "metadata": {
        "id": "ycgTBoDjWeMR"
      },
      "source": [
        "### RegressorChain"
      ]
    },
    {
      "cell_type": "code",
      "execution_count": null,
      "metadata": {
        "ExecuteTime": {
          "end_time": "2020-03-27T03:28:41.074771Z",
          "start_time": "2020-03-27T03:28:41.066616Z"
        },
        "id": "cRYH0aVOWeMR",
        "outputId": "da298803-49fb-4ddd-869d-b6a8db8e90a5"
      },
      "outputs": [
        {
          "name": "stdout",
          "output_type": "stream",
          "text": [
            "[-93.15  23.27]\n"
          ]
        }
      ],
      "source": [
        "\n",
        "# define model\n",
        "model = LinearSVR()\n",
        "wrapper = RegressorChain(model)\n",
        "# fit model\n",
        "wrapper.fit(X, y)\n",
        "# make a prediction\n",
        "data_in = [[-2.02220122, 0.31563495, 0.82797464, -0.30620401, 0.16003707, -1.44411381, 0.87616892, -0.50446586, 0.23009474, 0.76201118]]\n",
        "yhat = wrapper.predict(data_in)\n",
        "# summarize prediction\n",
        "print(yhat[0])"
      ]
    },
    {
      "cell_type": "code",
      "execution_count": null,
      "metadata": {
        "ExecuteTime": {
          "end_time": "2020-03-27T03:28:41.085223Z",
          "start_time": "2020-03-27T03:28:41.076216Z"
        },
        "id": "p5ANQFq5WeMR",
        "outputId": "a5463350-4f58-495d-c723-ca50dd548208"
      },
      "outputs": [
        {
          "data": {
            "text/plain": [
              "array([7.84e-24, 1.50e-04])"
            ]
          },
          "execution_count": 30,
          "metadata": {},
          "output_type": "execute_result"
        }
      ],
      "source": [
        "model = LinearSVR()\n",
        "wrapper = RegressorChain(model)\n",
        "\n",
        "# fit model\n",
        "wrapper.fit(X_train, y_train)\n",
        "# make a prediction\n",
        "y_preds = wrapper.predict(X_test)\n",
        "# summarize prediction\n",
        "\n",
        "mean_squared_error(y_test, y_preds, multioutput='raw_values',squared=True)"
      ]
    }
  ],
  "metadata": {
    "kernelspec": {
      "display_name": "Python 3",
      "language": "python",
      "name": "python3"
    },
    "language_info": {
      "codemirror_mode": {
        "name": "ipython",
        "version": 3
      },
      "file_extension": ".py",
      "mimetype": "text/x-python",
      "name": "python",
      "nbconvert_exporter": "python",
      "pygments_lexer": "ipython3",
      "version": "3.7.6"
    },
    "toc": {
      "base_numbering": 1,
      "nav_menu": {},
      "number_sections": true,
      "sideBar": true,
      "skip_h1_title": false,
      "title_cell": "Table of Contents",
      "title_sidebar": "Contents",
      "toc_cell": false,
      "toc_position": {},
      "toc_section_display": true,
      "toc_window_display": false
    },
    "colab": {
      "provenance": [],
      "include_colab_link": true
    }
  },
  "nbformat": 4,
  "nbformat_minor": 0
}